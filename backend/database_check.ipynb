{
 "cells": [
  {
   "cell_type": "markdown",
   "metadata": {},
   "source": [
    "### 0. 当心下面一行的代码，会把所有的数据库里面的数据都抹掉"
   ]
  },
  {
   "cell_type": "code",
   "execution_count": 9,
   "metadata": {},
   "outputs": [
    {
     "name": "stdout",
     "output_type": "stream",
     "text": [
      "Initializing database...\n",
      "Dropped all existing tables.\n",
      "Created all tables successfully.\n",
      "\n",
      "Created tables: ['user', 'users']\n",
      "\n",
      "Structure of table 'user':\n",
      "- id: INTEGER\n",
      "- name: VARCHAR(100)\n",
      "- email: VARCHAR(120)\n",
      "- password_hash: VARCHAR(128)\n",
      "\n",
      "Structure of table 'users':\n",
      "- id: INTEGER\n",
      "- email: VARCHAR(120)\n",
      "- name: VARCHAR(100)\n",
      "- password_hash: BLOB\n",
      "- created_at: DATETIME\n",
      "- updated_at: DATETIME\n",
      "- is_active: BOOLEAN\n"
     ]
    }
   ],
   "source": [
    "# # Import necessary packages\n",
    "# from app import create_app\n",
    "# from app.database import db\n",
    "# from app.models import User\n",
    "# import pandas as pd\n",
    "# from sqlalchemy import inspect\n",
    "\n",
    "# # Create Flask app and push an application context\n",
    "# app = create_app()\n",
    "# app.app_context().push()\n",
    "\n",
    "# # Function to initialize database\n",
    "# def init_database():\n",
    "#     try:\n",
    "#         # Drop all tables if they exist\n",
    "#         db.drop_all()\n",
    "#         print(\"Dropped all existing tables.\")\n",
    "        \n",
    "#         # Create all tables\n",
    "#         db.create_all()\n",
    "#         print(\"Created all tables successfully.\")\n",
    "        \n",
    "#         # Verify table creation\n",
    "#         inspector = inspect(db.engine)\n",
    "#         tables = inspector.get_table_names()\n",
    "#         print(\"\\nCreated tables:\", tables)\n",
    "        \n",
    "#         # Show table structure\n",
    "#         for table_name in tables:\n",
    "#             print(f\"\\nStructure of table '{table_name}':\")\n",
    "#             for column in inspector.get_columns(table_name):\n",
    "#                 print(f\"- {column['name']}: {column['type']}\")\n",
    "                \n",
    "#     except Exception as e:\n",
    "#         print(f\"Error initializing database: {str(e)}\")\n",
    "\n",
    "\n",
    "\n",
    "# # Initialize the database\n",
    "# print(\"Initializing database...\")\n",
    "# init_database()\n",
    "\n"
   ]
  },
  {
   "cell_type": "markdown",
   "metadata": {},
   "source": [
    "### 01. 检查数据库里面的用户"
   ]
  },
  {
   "cell_type": "code",
   "execution_count": 12,
   "metadata": {},
   "outputs": [],
   "source": [
    "from app import create_app\n",
    "from app.database import db\n",
    "from app.models import User\n",
    "import pandas as pd\n",
    "from sqlalchemy import inspect\n",
    "\n",
    "# Create Flask app and push an application context\n",
    "app = create_app()\n",
    "app.app_context().push()\n"
   ]
  },
  {
   "cell_type": "code",
   "execution_count": 14,
   "metadata": {},
   "outputs": [
    {
     "name": "stdout",
     "output_type": "stream",
     "text": [
      "\n",
      "Checking database content...\n",
      "\n",
      "Current Users in Database:\n",
      "   id      name                     email                 created_at  \\\n",
      "0   1  Aaron Lu  yunxingluaaron@gmail.com 2024-12-25 20:19:44.618668   \n",
      "\n",
      "   is_active  \n",
      "0       True  \n"
     ]
    }
   ],
   "source": [
    "# Function to check database content\n",
    "def check_database():\n",
    "    try:\n",
    "        # Get all users\n",
    "        users = User.query.all()\n",
    "        \n",
    "        # Convert to DataFrame for better visualization\n",
    "        users_data = []\n",
    "        for user in users:\n",
    "            users_data.append({\n",
    "                'id': user.id,\n",
    "                'name': user.name,\n",
    "                'email': user.email,\n",
    "                'created_at': user.created_at,\n",
    "                'is_active': user.is_active\n",
    "            })\n",
    "        \n",
    "        df = pd.DataFrame(users_data)\n",
    "        print(\"\\nCurrent Users in Database:\")\n",
    "        print(df if not df.empty else \"No users found in database\")\n",
    "        \n",
    "    except Exception as e:\n",
    "        print(f\"Error checking database: {str(e)}\")\n",
    "\n",
    "# Check the database content\n",
    "print(\"\\nChecking database content...\")\n",
    "check_database()"
   ]
  }
 ],
 "metadata": {
  "kernelspec": {
   "display_name": "ped",
   "language": "python",
   "name": "python3"
  },
  "language_info": {
   "codemirror_mode": {
    "name": "ipython",
    "version": 3
   },
   "file_extension": ".py",
   "mimetype": "text/x-python",
   "name": "python",
   "nbconvert_exporter": "python",
   "pygments_lexer": "ipython3",
   "version": "3.12.6"
  }
 },
 "nbformat": 4,
 "nbformat_minor": 2
}
