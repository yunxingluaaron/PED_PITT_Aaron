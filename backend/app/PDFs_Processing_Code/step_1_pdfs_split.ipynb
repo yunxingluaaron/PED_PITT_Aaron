{
 "cells": [
  {
   "cell_type": "markdown",
   "metadata": {},
   "source": [
    "### 1. 采用  pdf splitting 的方法，分析整个文件夹的 PDFs"
   ]
  },
  {
   "cell_type": "code",
   "execution_count": 3,
   "metadata": {},
   "outputs": [],
   "source": [
    "import PyPDF2\n",
    "import json\n",
    "from pathlib import Path\n",
    "import os\n",
    "from typing import Dict, Any, List\n",
    "from tqdm import tqdm\n",
    "\n",
    "class PDFPageExtractor:\n",
    "    def __init__(self):\n",
    "        pass\n",
    "        \n",
    "    def extract_pdf_pages(self, pdf_path: str) -> Dict[str, Any]:\n",
    "        \"\"\"Extract text from PDF file page by page and return as JSON format.\"\"\"\n",
    "        pdf_path = Path(pdf_path).resolve()\n",
    "        \n",
    "        if not pdf_path.exists():\n",
    "            raise FileNotFoundError(f\"PDF file not found at path: {pdf_path}\")\n",
    "        \n",
    "        if not pdf_path.is_file():\n",
    "            raise ValueError(f\"Path exists but is not a file: {pdf_path}\")\n",
    "            \n",
    "        if pdf_path.suffix.lower() != '.pdf':\n",
    "            raise ValueError(f\"File is not a PDF (extension is {pdf_path.suffix}): {pdf_path}\")\n",
    "        \n",
    "        try:\n",
    "            result = {\n",
    "                \"title\": pdf_path.stem,\n",
    "                \"pages\": []\n",
    "            }\n",
    "            \n",
    "            with open(pdf_path, 'rb') as file:\n",
    "                reader = PyPDF2.PdfReader(file)\n",
    "                total_pages = len(reader.pages)\n",
    "                \n",
    "                if total_pages == 0:\n",
    "                    raise ValueError(f\"PDF file is empty: {pdf_path}\")\n",
    "                \n",
    "                print(f\"\\nExtracting pages from: {pdf_path.name}\")\n",
    "                print(f\"Total pages: {total_pages}\")\n",
    "                \n",
    "                for page_num in tqdm(range(total_pages), desc=\"Processing pages\"):\n",
    "                    try:\n",
    "                        page = reader.pages[page_num]\n",
    "                        page_text = page.extract_text()\n",
    "                        \n",
    "                        page_entry = {\n",
    "                            \"page_number\": page_num + 1,\n",
    "                            \"content\": page_text.strip() if page_text else \"\"\n",
    "                        }\n",
    "                        \n",
    "                        result[\"pages\"].append(page_entry)\n",
    "                        \n",
    "                    except Exception as e:\n",
    "                        print(f\"\\nWarning: Error extracting text from page {page_num + 1}: {str(e)}\")\n",
    "                        result[\"pages\"].append({\n",
    "                            \"page_number\": page_num + 1,\n",
    "                            \"content\": \"\",\n",
    "                            \"error\": str(e)\n",
    "                        })\n",
    "            \n",
    "            return result\n",
    "                \n",
    "        except Exception as e:\n",
    "            raise Exception(f\"Error reading PDF {pdf_path}: {str(e)}\")\n",
    "    \n",
    "    def save_to_json(self, data: Dict[str, Any], output_path: str) -> None:\n",
    "        \"\"\"Save the extracted data to a JSON file.\"\"\"\n",
    "        output_path = Path(output_path)\n",
    "        output_path.parent.mkdir(parents=True, exist_ok=True)\n",
    "        \n",
    "        try:\n",
    "            with open(output_path, 'w', encoding='utf-8') as f:\n",
    "                json.dump(data, f, ensure_ascii=False, indent=2)\n",
    "            print(f\"Successfully saved JSON output to: {output_path}\")\n",
    "        except Exception as e:\n",
    "            raise Exception(f\"Error saving JSON file: {str(e)}\")\n",
    "\n",
    "def get_pdf_files(directory: str) -> List[Path]:\n",
    "    \"\"\"Get all PDF files in the specified directory.\"\"\"\n",
    "    directory_path = Path(directory)\n",
    "    return sorted(directory_path.glob('*.pdf'))\n",
    "\n",
    "def process_pdf(pdf_path: str, output_path: str) -> Dict[str, Any]:\n",
    "    \"\"\"Process a single PDF file and save the results to JSON.\"\"\"\n",
    "    extractor = PDFPageExtractor()\n",
    "    \n",
    "    try:\n",
    "        result = extractor.extract_pdf_pages(pdf_path)\n",
    "        extractor.save_to_json(result, output_path)\n",
    "        return result\n",
    "    except Exception as e:\n",
    "        print(f\"Error processing PDF {pdf_path}: {str(e)}\")\n",
    "        return None\n",
    "\n",
    "def process_directory(directory_path: str) -> Dict[str, Any]:\n",
    "    \"\"\"Process all PDFs in a directory and return processing statistics.\"\"\"\n",
    "    pdf_files = get_pdf_files(directory_path)\n",
    "    total_pdfs = len(pdf_files)\n",
    "    \n",
    "    if total_pdfs == 0:\n",
    "        print(f\"No PDF files found in directory: {directory_path}\")\n",
    "        return {\n",
    "            \"total_pdfs\": 0,\n",
    "            \"processed\": 0,\n",
    "            \"failed\": 0,\n",
    "            \"files\": []\n",
    "        }\n",
    "    \n",
    "    print(f\"\\nFound {total_pdfs} PDF files to process\")\n",
    "    \n",
    "    stats = {\n",
    "        \"total_pdfs\": total_pdfs,\n",
    "        \"processed\": 0,\n",
    "        \"failed\": 0,\n",
    "        \"files\": []\n",
    "    }\n",
    "    \n",
    "    output_dir = Path(directory_path) / \"pdf_json_output\"\n",
    "    output_dir.mkdir(exist_ok=True)\n",
    "    \n",
    "    for pdf_file in tqdm(pdf_files, desc=\"Processing PDFs\"):\n",
    "        output_path = output_dir / f\"{pdf_file.stem}_pages.json\"\n",
    "        \n",
    "        try:\n",
    "            result = process_pdf(str(pdf_file), str(output_path))\n",
    "            if result:\n",
    "                stats[\"processed\"] += 1\n",
    "                stats[\"files\"].append({\n",
    "                    \"pdf_name\": pdf_file.name,\n",
    "                    \"json_name\": output_path.name,\n",
    "                    \"pages\": len(result[\"pages\"]),\n",
    "                    \"status\": \"success\"\n",
    "                })\n",
    "            else:\n",
    "                stats[\"failed\"] += 1\n",
    "                stats[\"files\"].append({\n",
    "                    \"pdf_name\": pdf_file.name,\n",
    "                    \"status\": \"failed\"\n",
    "                })\n",
    "        except Exception as e:\n",
    "            print(f\"\\nError processing {pdf_file.name}: {str(e)}\")\n",
    "            stats[\"failed\"] += 1\n",
    "            stats[\"files\"].append({\n",
    "                \"pdf_name\": pdf_file.name,\n",
    "                \"status\": \"failed\",\n",
    "                \"error\": str(e)\n",
    "            })\n",
    "    \n",
    "    # Save processing stats\n",
    "    stats_path = output_dir / \"processing_stats.json\"\n",
    "    with open(stats_path, 'w', encoding='utf-8') as f:\n",
    "        json.dump(stats, f, ensure_ascii=False, indent=2)\n",
    "    \n",
    "    return stats\n"
   ]
  },
  {
   "cell_type": "code",
   "execution_count": 4,
   "metadata": {},
   "outputs": [
    {
     "name": "stdout",
     "output_type": "stream",
     "text": [
      "Starting batch PDF processing...\n",
      "\n",
      "Found 10 PDF files to process\n"
     ]
    },
    {
     "name": "stderr",
     "output_type": "stream",
     "text": [
      "Processing PDFs:   0%|          | 0/10 [00:00<?, ?it/s]"
     ]
    },
    {
     "name": "stdout",
     "output_type": "stream",
     "text": [
      "\n",
      "Extracting pages from: Breastfeeding telephone triage and ad... (Z-Library).pdf\n",
      "Total pages: 140\n"
     ]
    },
    {
     "name": "stderr",
     "output_type": "stream",
     "text": [
      "Processing pages: 100%|██████████| 140/140 [00:04<00:00, 29.14it/s]\n",
      "Processing PDFs:  10%|█         | 1/10 [00:05<00:45,  5.06s/it]"
     ]
    },
    {
     "name": "stdout",
     "output_type": "stream",
     "text": [
      "Successfully saved JSON output to: D:\\Dropbox\\29. Ampelos\\24_PED\\PED_PITT_Aaron\\backend\\PDFs_Share\\pdf_json_output\\Breastfeeding telephone triage and ad... (Z-Library)_pages.json\n",
      "\n",
      "Extracting pages from: Bright Futures Guidelines for Health... (Z-Library).pdf\n",
      "Total pages: 1459\n"
     ]
    },
    {
     "name": "stderr",
     "output_type": "stream",
     "text": [
      "Processing pages: 100%|██████████| 1459/1459 [01:28<00:00, 16.58it/s]\n",
      "Processing PDFs:  20%|██        | 2/10 [01:33<07:13, 54.19s/it]"
     ]
    },
    {
     "name": "stdout",
     "output_type": "stream",
     "text": [
      "Successfully saved JSON output to: D:\\Dropbox\\29. Ampelos\\24_PED\\PED_PITT_Aaron\\backend\\PDFs_Share\\pdf_json_output\\Bright Futures Guidelines for Health... (Z-Library)_pages.json\n",
      "\n",
      "Extracting pages from: Caring for Your Baby and Young Child  Birth to Age 5 (Tanya Altmann American Academy of Pediatrics) (Z-Library).pdf\n",
      "Total pages: 962\n"
     ]
    },
    {
     "name": "stderr",
     "output_type": "stream",
     "text": [
      "Processing pages: 100%|██████████| 962/962 [01:55<00:00,  8.36it/s]\n",
      "Processing PDFs:  30%|███       | 3/10 [03:30<09:39, 82.85s/it]"
     ]
    },
    {
     "name": "stdout",
     "output_type": "stream",
     "text": [
      "Successfully saved JSON output to: D:\\Dropbox\\29. Ampelos\\24_PED\\PED_PITT_Aaron\\backend\\PDFs_Share\\pdf_json_output\\Caring for Your Baby and Young Child  Birth to Age 5 (Tanya Altmann American Academy of Pediatrics) (Z-Library)_pages.json\n",
      "\n",
      "Extracting pages from: Managing Infectious Diseases in Child Care and Schools A Quick Reference Guide (Susan S. Aronson, Timothy R. Shope) (Z-Library).pdf\n",
      "Total pages: 268\n"
     ]
    },
    {
     "name": "stderr",
     "output_type": "stream",
     "text": [
      "Processing pages: 100%|██████████| 268/268 [00:30<00:00,  8.76it/s]\n",
      "Processing PDFs:  40%|████      | 4/10 [04:01<06:14, 62.34s/it]"
     ]
    },
    {
     "name": "stdout",
     "output_type": "stream",
     "text": [
      "Successfully saved JSON output to: D:\\Dropbox\\29. Ampelos\\24_PED\\PED_PITT_Aaron\\backend\\PDFs_Share\\pdf_json_output\\Managing Infectious Diseases in Child Care and Schools A Quick Reference Guide (Susan S. Aronson, Timothy R. Shope) (Z-Library)_pages.json\n",
      "\n",
      "Extracting pages from: Nelson Textbook of Pediatrics, 2-Volume (Robert M. Kliegman MD (Editor) etc.) (Z-Library).pdf\n",
      "Total pages: 2304\n"
     ]
    },
    {
     "name": "stderr",
     "output_type": "stream",
     "text": [
      "Processing pages: 100%|██████████| 2304/2304 [04:09<00:00,  9.25it/s]\n",
      "Processing PDFs:  50%|█████     | 5/10 [08:12<10:52, 130.42s/it]"
     ]
    },
    {
     "name": "stdout",
     "output_type": "stream",
     "text": [
      "Successfully saved JSON output to: D:\\Dropbox\\29. Ampelos\\24_PED\\PED_PITT_Aaron\\backend\\PDFs_Share\\pdf_json_output\\Nelson Textbook of Pediatrics, 2-Volume (Robert M. Kliegman MD (Editor) etc.) (Z-Library)_pages.json\n",
      "\n",
      "Extracting pages from: Pediatric Dermatology A Quick Referen... (Z-Library).pdf\n",
      "Total pages: 850\n"
     ]
    },
    {
     "name": "stderr",
     "output_type": "stream",
     "text": [
      "Processing pages: 100%|██████████| 850/850 [08:07<00:00,  1.75it/s]\n",
      "Processing PDFs:  60%|██████    | 6/10 [16:20<16:47, 251.80s/it]"
     ]
    },
    {
     "name": "stdout",
     "output_type": "stream",
     "text": [
      "Successfully saved JSON output to: D:\\Dropbox\\29. Ampelos\\24_PED\\PED_PITT_Aaron\\backend\\PDFs_Share\\pdf_json_output\\Pediatric Dermatology A Quick Referen... (Z-Library)_pages.json\n",
      "\n",
      "Extracting pages from: Pediatric Orthopaedics and Sports Inj... (Z-Library).pdf\n",
      "Total pages: 800\n"
     ]
    },
    {
     "name": "stderr",
     "output_type": "stream",
     "text": [
      "Processing pages: 100%|██████████| 800/800 [00:19<00:00, 41.72it/s]\n",
      "Processing PDFs:  70%|███████   | 7/10 [16:40<08:48, 176.19s/it]"
     ]
    },
    {
     "name": "stdout",
     "output_type": "stream",
     "text": [
      "Successfully saved JSON output to: D:\\Dropbox\\29. Ampelos\\24_PED\\PED_PITT_Aaron\\backend\\PDFs_Share\\pdf_json_output\\Pediatric Orthopaedics and Sports Inj... (Z-Library)_pages.json\n",
      "\n",
      "Extracting pages from: Quick Reference Guide to Pediatric Ca... (Z-Library).pdf\n",
      "Total pages: 1244\n"
     ]
    },
    {
     "name": "stderr",
     "output_type": "stream",
     "text": [
      "Processing pages: 100%|██████████| 1244/1244 [01:44<00:00, 11.95it/s]\n",
      "Processing PDFs:  80%|████████  | 8/10 [18:26<05:07, 153.79s/it]"
     ]
    },
    {
     "name": "stdout",
     "output_type": "stream",
     "text": [
      "Successfully saved JSON output to: D:\\Dropbox\\29. Ampelos\\24_PED\\PED_PITT_Aaron\\backend\\PDFs_Share\\pdf_json_output\\Quick Reference Guide to Pediatric Ca... (Z-Library)_pages.json\n",
      "\n",
      "Extracting pages from: The Harriet Lane Handbook 22nd Editio... (Z-Library).pdf\n",
      "Total pages: 1304\n"
     ]
    },
    {
     "name": "stderr",
     "output_type": "stream",
     "text": [
      "Processing pages: 100%|██████████| 1304/1304 [00:45<00:00, 28.75it/s]\n",
      "Processing PDFs:  90%|█████████ | 9/10 [19:13<02:00, 120.32s/it]"
     ]
    },
    {
     "name": "stdout",
     "output_type": "stream",
     "text": [
      "Successfully saved JSON output to: D:\\Dropbox\\29. Ampelos\\24_PED\\PED_PITT_Aaron\\backend\\PDFs_Share\\pdf_json_output\\The Harriet Lane Handbook 22nd Editio... (Z-Library)_pages.json\n",
      "\n",
      "Extracting pages from: You-ology A Puberty Guide for EVERY B... (Z-Library).pdf\n",
      "Total pages: 226\n"
     ]
    },
    {
     "name": "stderr",
     "output_type": "stream",
     "text": [
      "Processing pages: 100%|██████████| 226/226 [00:10<00:00, 21.22it/s]\n",
      "Processing PDFs: 100%|██████████| 10/10 [19:23<00:00, 116.39s/it]"
     ]
    },
    {
     "name": "stdout",
     "output_type": "stream",
     "text": [
      "Successfully saved JSON output to: D:\\Dropbox\\29. Ampelos\\24_PED\\PED_PITT_Aaron\\backend\\PDFs_Share\\pdf_json_output\\You-ology A Puberty Guide for EVERY B... (Z-Library)_pages.json\n",
      "\n",
      "Processing Summary:\n",
      "Total PDFs found: 10\n",
      "Successfully processed: 10\n",
      "Failed: 0\n",
      "\n",
      "Detailed processing stats saved to: D:\\Dropbox\\29. Ampelos\\24_PED\\PED_PITT_Aaron\\backend\\PDFs_Share\\pdf_json_output\\processing_stats.json\n"
     ]
    },
    {
     "name": "stderr",
     "output_type": "stream",
     "text": [
      "\n"
     ]
    }
   ],
   "source": [
    "\n",
    "def main():\n",
    "    # Directory containing PDF files\n",
    "    directory_path = r\"D:\\Dropbox\\29. Ampelos\\24_PED\\PED_PITT_Aaron\\backend\\PDFs_Share\"\n",
    "    \n",
    "    try:\n",
    "        print(\"Starting batch PDF processing...\")\n",
    "        stats = process_directory(directory_path)\n",
    "        \n",
    "        print(\"\\nProcessing Summary:\")\n",
    "        print(f\"Total PDFs found: {stats['total_pdfs']}\")\n",
    "        print(f\"Successfully processed: {stats['processed']}\")\n",
    "        print(f\"Failed: {stats['failed']}\")\n",
    "        print(f\"\\nDetailed processing stats saved to: {Path(directory_path) / 'pdf_json_output' / 'processing_stats.json'}\")\n",
    "        \n",
    "    except Exception as e:\n",
    "        print(f\"Error in main: {str(e)}\")\n",
    "\n",
    "if __name__ == \"__main__\":\n",
    "    main()"
   ]
  }
 ],
 "metadata": {
  "kernelspec": {
   "display_name": "ped",
   "language": "python",
   "name": "python3"
  },
  "language_info": {
   "codemirror_mode": {
    "name": "ipython",
    "version": 3
   },
   "file_extension": ".py",
   "mimetype": "text/x-python",
   "name": "python",
   "nbconvert_exporter": "python",
   "pygments_lexer": "ipython3",
   "version": "3.12.6"
  }
 },
 "nbformat": 4,
 "nbformat_minor": 2
}
